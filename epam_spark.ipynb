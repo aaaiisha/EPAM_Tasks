{
 "cells": [
  {
   "cell_type": "code",
   "execution_count": 1,
   "metadata": {},
   "outputs": [],
   "source": [
    "import os\n",
    "import sys\n",
    "\n",
    "os.environ[\"PYSPARK_PYTHON\"] = sys.executable\n",
    "os.environ[\"PYSPARK_DRIVER_PYTHON\"] = sys.executable\n",
    "os.environ['PYSPARK_DRIVER_PYTHON_OPTS'] = \"--master local[4] --executor-memory 4g --driver-memory 4g\""
   ]
  },
  {
   "cell_type": "code",
   "execution_count": null,
   "metadata": {},
   "outputs": [],
   "source": []
  },
  {
   "cell_type": "markdown",
   "metadata": {},
   "source": [
    " # Import all necessary libraries\n",
    " "
   ]
  },
  {
   "cell_type": "code",
   "execution_count": 3,
   "metadata": {},
   "outputs": [],
   "source": [
    "import os\n",
    "from pyspark.sql import SparkSession\n",
    "from pyspark.sql.functions import col\n",
    "from pyspark.sql import SparkSession\n",
    "from pyspark.sql.functions import udf\n",
    "from pyspark.sql.types import FloatType\n",
    "from geopy.geocoders import OpenCage\n",
    "from pyspark.sql.functions import udf\n",
    "from pyspark.sql.types import StringType\n",
    "from opencage.geocoder import OpenCageGeocode\n",
    "from pyspark.sql import SparkSession\n",
    "from pyspark.sql.functions import udf\n",
    "from pyspark.sql.types import StringType\n",
    "from opencage.geocoder import OpenCageGeocode\n",
    "from decimal import Decimal\n",
    "from pyspark.sql import SparkSession\n",
    "from pyspark.sql.functions import udf\n",
    "from pyspark.sql.types import StringType\n",
    "import opencage.geocoder\n",
    "import requests\n"
   ]
  },
  {
   "cell_type": "code",
   "execution_count": 4,
   "metadata": {},
   "outputs": [],
   "source": [
    "spark = SparkSession \\\n",
    "    .builder \\\n",
    "    .master(\"local[*]\") \\\n",
    "    .config(\"spark.io.compression.codec\", \"zstd\") \\\n",
    "    .config(\"spark.sql.execution.pythonUDF.arrow.enabled\", \"true\") \\\n",
    "    .config(\"spark.sql.execution.arrow.pyspark.enabled\", \"true\") \\\n",
    "    .config(\"spark.sol.shuffle.part-tions\", 200) \\\n",
    "    .config(\"spark.driver.memory\", \"8g\") \\\n",
    "    .config(\"spark.executor.memory\", \"8g\") \\\n",
    "    .config(\"spark.executor.instances\", \"4\") \\\n",
    "    .config(\"spark.executor.cores\", \"2\") \\\n",
    "    .config(\"spark.sql.files.maxRecordsPerFile\", 10_000) \\\n",
    "    .config(\"spark.debug.maxToStringFields\", 1000) \\\n",
    "    .config(\"spark.executor.heartbeatInterval\", \"3600s\") \\\n",
    "    .config(\"spark.network.timeout\", \"7200s\") \\\n",
    "    .config(\"spark.network.timeoutInterval\", \"3600s\") \\\n",
    "    .enableHiveSupport() \\\n",
    "    .getOrCreate()\n",
    " \n",
    "sc = spark.sparkContext\n"
   ]
  },
  {
   "cell_type": "markdown",
   "metadata": {},
   "source": [
    "# Start spark session"
   ]
  },
  {
   "cell_type": "code",
   "execution_count": 5,
   "metadata": {},
   "outputs": [],
   "source": [
    "spark = SparkSession.builder.appName(\"SparkETL\").getOrCreate()\n"
   ]
  },
  {
   "cell_type": "markdown",
   "metadata": {},
   "source": [
    "# Read the restaurants_csv folder"
   ]
  },
  {
   "cell_type": "code",
   "execution_count": 6,
   "metadata": {},
   "outputs": [
    {
     "name": "stdout",
     "output_type": "stream",
     "text": [
      "peak memory: 96.05 MiB, increment: 0.27 MiB\n",
      "root\n",
      " |-- id: long (nullable = true)\n",
      " |-- franchise_id: integer (nullable = true)\n",
      " |-- franchise_name: string (nullable = true)\n",
      " |-- restaurant_franchise_id: integer (nullable = true)\n",
      " |-- country: string (nullable = true)\n",
      " |-- city: string (nullable = true)\n",
      " |-- lat: double (nullable = true)\n",
      " |-- lng: double (nullable = true)\n",
      "\n",
      "+------------+------------+--------------------+-----------------------+-------+--------------+------+-------+\n",
      "|          id|franchise_id|      franchise_name|restaurant_franchise_id|country|          city|   lat|    lng|\n",
      "+------------+------------+--------------------+-----------------------+-------+--------------+------+-------+\n",
      "|197568495625|          10|    The Golden Spoon|                  24784|     US|       Decatur|34.578|-87.021|\n",
      "| 17179869242|          59|         Azalea Cafe|                  10902|     FR|         Paris|48.861|  2.368|\n",
      "|214748364826|          27|     The Corner Cafe|                  92040|     US|    Rapid City| 44.08|-103.25|\n",
      "|154618822706|          51|        The Pizzeria|                  41484|     AT|        Vienna|48.213| 16.413|\n",
      "|163208757312|          65|       Chef's Corner|                  96638|     GB|        London|51.495| -0.191|\n",
      "| 68719476763|          28|    The Spicy Pickle|                  77517|     US|      Grayling|44.657|-84.744|\n",
      "|223338299419|          28|    The Spicy Pickle|                  36937|     US|        Oswego|43.452|-76.532|\n",
      "|240518168650|          75|     Greenhouse Cafe|                  93164|     NL|     Amsterdam| 52.37|  4.897|\n",
      "|128849018936|          57|The Yellow Submarine|                   5679|     FR|         Paris|48.872|  2.335|\n",
      "|197568495635|          20|       The Brasserie|                  24784|     US|Jeffersonville|39.616|-83.612|\n",
      "| 68719476768|          33|   The Blue Elephant|                  77517|     IT|         Milan|45.479|  9.146|\n",
      "| 51539607582|          31|           Bistro 42|                   6934|     IT|         Milan|45.444|  9.153|\n",
      "| 94489280554|          43|      The Food House|                  95399|     FR|         Paris|48.867|  2.329|\n",
      "|206158430215|           8|     The Green Olive|                  53370|     US|   Haltom City|32.789| -97.28|\n",
      "|154618822657|           2|        Bella Cucina|                  41484|     US|   Fort Pierce|27.412|-80.391|\n",
      "| 17179869217|          34|     The Tasty Treat|                  10902|     US|     Green Bay|44.476|-88.077|\n",
      "|  8589934633|          42|     The Daily Scoop|                  12630|     FR|         Paris|48.854|  2.343|\n",
      "|240518168596|          21|      The Lazy Daisy|                  93164|     US|    Mendenhall| 39.86|-75.646|\n",
      "|171798691906|          67|  Crimson and Clover|                  65939|     NL|     Amsterdam|52.361|  4.894|\n",
      "| 42949673022|          63|          Cafe Paris|                  89646|     GB|        London|51.508| -0.107|\n",
      "+------------+------------+--------------------+-----------------------+-------+--------------+------+-------+\n",
      "only showing top 20 rows\n",
      "\n"
     ]
    }
   ],
   "source": [
    "#Прежний метод очень доллго грузился по этому использовался для проверки нагрузки\n",
    "%load_ext memory_profiler\n",
    "%memit\n",
    "\n",
    "folder_path = \"restaurant_csv/\"\n",
    "\n",
    "# Получаю список файлов в папке с ресторанами\n",
    "files = [os.path.join(folder_path, file) for file in os.listdir(folder_path) if file.endswith(\".csv\")]\n",
    "\n",
    "# Считайте все CSV-файлы в DataFrame\n",
    "restaurant_df = spark.read.format(\"csv\").option(\"header\", \"true\").option(\"inferSchema\", \"true\").load(files)\n",
    "\n",
    "#Cхему DataFrame\n",
    "restaurant_df.printSchema()\n",
    "\n",
    "#DataFrame\n",
    "restaurant_df.show()\n"
   ]
  },
  {
   "cell_type": "markdown",
   "metadata": {},
   "source": [
    "## Add API key"
   ]
  },
  {
   "cell_type": "code",
   "execution_count": 7,
   "metadata": {},
   "outputs": [],
   "source": [
    "api_key = '87fd6af7d45949ab92bcead6468a7882'\n",
    "geocoder = opencage.geocoder.OpenCageGeocode(api_key)"
   ]
  },
  {
   "cell_type": "markdown",
   "metadata": {},
   "source": [
    "# CHECKING API"
   ]
  },
  {
   "cell_type": "code",
   "execution_count": 26,
   "metadata": {},
   "outputs": [
    {
     "name": "stdout",
     "output_type": "stream",
     "text": [
      "all: {'documentation': 'https://opencagedata.com/api', 'licenses': [{'name': 'see attribution guide', 'url': 'https://opencagedata.com/credits'}], 'rate': {'limit': 2500, 'remaining': 2499, 'reset': 1707868800}, 'results': [{'annotations': {'DMS': {'lat': \"34° 34' 38.56908'' N\", 'lng': \"87° 1' 14.18304'' W\"}, 'FIPS': {'county': '01103', 'state': '01'}, 'MGRS': '16SDD9811026177', 'Maidenhead': 'EM64ln78mn', 'Mercator': {'x': -9687089.591, 'y': 4082346.935}, 'OSM': {'edit_url': 'https://www.openstreetmap.org/edit?way=1225391036#map=17/34.57738/-87.02061', 'note_url': 'https://www.openstreetmap.org/note/new#map=17/34.57738/-87.02061&layers=N', 'url': 'https://www.openstreetmap.org/?mlat=34.57738&mlon=-87.02061#map=17/34.57738/-87.02061'}, 'UN_M49': {'regions': {'AMERICAS': '019', 'NORTHERN_AMERICA': '021', 'US': '840', 'WORLD': '001'}, 'statistical_groupings': ['MEDC']}, 'callingcode': 1, 'currency': {'alternate_symbols': ['US$'], 'decimal_mark': '.', 'disambiguate_symbol': 'US$', 'html_entity': '$', 'iso_code': 'USD', 'iso_numeric': '840', 'name': 'United States Dollar', 'smallest_denomination': 1, 'subunit': 'Cent', 'subunit_to_unit': 100, 'symbol': '$', 'symbol_first': 1, 'thousands_separator': ','}, 'flag': '🇺🇸', 'geohash': 'dn4hey9ebfugszdcxd2b', 'qibla': 50.34, 'roadinfo': {'drive_on': 'right', 'road': 'Jameson Southwest Place', 'speed_in': 'mph'}, 'sun': {'rise': {'apparent': 1707827820, 'astronomical': 1707822720, 'civil': 1707826260, 'nautical': 1707824460}, 'set': {'apparent': 1707866880, 'astronomical': 1707785580, 'civil': 1707868440, 'nautical': 1707783840}}, 'timezone': {'name': 'America/Chicago', 'now_in_dst': 0, 'offset_sec': -21600, 'offset_string': '-0600', 'short_name': 'CST'}, 'what3words': {'words': 'tongs.snacking.chat'}}, 'bounds': {'northeast': {'lat': 34.5776158, 'lng': -87.0203566}, 'southwest': {'lat': 34.5771448, 'lng': -87.0208562}}, 'components': {'ISO_3166-1_alpha-2': 'US', 'ISO_3166-1_alpha-3': 'USA', 'ISO_3166-2': ['US-AL'], '_category': 'travel/tourism', '_normalized_city': 'Decatur', '_type': 'hotel', 'continent': 'North America', 'country': 'United States', 'country_code': 'us', 'county': 'Morgan County', 'hotel': 'Quality Inn Decatur River City', 'house_number': '2120', 'postcode': '35601', 'road': 'Jameson Southwest Place', 'state': 'Alabama', 'state_code': 'AL', 'town': 'Decatur'}, 'confidence': 9, 'distance_from_q': {'meters': 77}, 'formatted': 'Quality Inn Decatur River City, 2120 Jameson Southwest Place, Decatur, AL 35601, United States of America', 'geometry': {'lat': 34.5773803, 'lng': -87.0206064}}], 'status': {'code': 200, 'message': 'OK'}, 'stay_informed': {'blog': 'https://blog.opencagedata.com', 'mastodon': 'https://en.osm.town/@opencage'}, 'thanks': 'For using an OpenCage API', 'timestamp': {'created_http': 'Tue, 13 Feb 2024 03:46:04 GMT', 'created_unix': 1707795964}, 'total_results': 1}\n",
      "Geohash: dn4hey9ebfugszdcxd2b\n"
     ]
    }
   ],
   "source": [
    "# Disable SSL certificate verification (cause of error)\n",
    "requests.packages.urllib3.disable_warnings()  # Ignore SSL certificate warnings\n",
    "\n",
    "# test data from first data\n",
    "lat = 34.578\n",
    "lon = -87.021\n",
    "\n",
    "# Construct the URL for the reverse geocoding request\n",
    "url = f\"https://api.opencagedata.com/geocode/v1/json?q={lat}%2C{lon}&key={api_key}\"\n",
    "\n",
    "# Perform the request\n",
    "response = requests.get(url, verify=False)\n",
    "\n",
    "# Check if the request was successful\n",
    "if response.status_code == 200:\n",
    "    \n",
    "    # Extract the result\n",
    "    result = response.json()\n",
    "    # Get geohash value\n",
    "    geohash_value = result['results'][0]['annotations']['geohash']\n",
    "    # Print the geohash value and all data from OpenCage\n",
    "    print(\"all:\", result)\n",
    "    print(\"Geohash:\", geohash_value)\n",
    "else:\n",
    "    print(\"Error:\", response.status_code)\n",
    "\n"
   ]
  },
  {
   "cell_type": "code",
   "execution_count": 9,
   "metadata": {},
   "outputs": [
    {
     "name": "stdout",
     "output_type": "stream",
     "text": [
      "all: {'documentation': 'https://opencagedata.com/api', 'licenses': [{'name': 'see attribution guide', 'url': 'https://opencagedata.com/credits'}], 'rate': {'limit': 2500, 'remaining': 359, 'reset': 1707782400}, 'results': [{'annotations': {'DMS': {'lat': \"48° 51' 39.38040'' N\", 'lng': \"2° 22' 4.33560'' E\"}, 'MGRS': '31UDQ5363612189', 'Maidenhead': 'JN18eu46dp', 'Mercator': {'x': 263590.194, 'y': 6219101.456}, 'NUTS': {'NUTS0': {'code': 'FR'}, 'NUTS1': {'code': 'FR1'}, 'NUTS2': {'code': 'FR10'}, 'NUTS3': {'code': 'FR101'}}, 'OSM': {'note_url': 'https://www.openstreetmap.org/note/new#map=17/48.86094/2.36787&layers=N', 'url': 'https://www.openstreetmap.org/?mlat=48.86094&mlon=2.36787#map=17/48.86094/2.36787'}, 'UN_M49': {'regions': {'EUROPE': '150', 'FR': '250', 'WESTERN_EUROPE': '155', 'WORLD': '001'}, 'statistical_groupings': ['MEDC']}, 'callingcode': 33, 'currency': {'alternate_symbols': [], 'decimal_mark': ',', 'html_entity': '€', 'iso_code': 'EUR', 'iso_numeric': '978', 'name': 'Euro', 'smallest_denomination': 1, 'subunit': 'Cent', 'subunit_to_unit': 100, 'symbol': '€', 'symbol_first': 0, 'thousands_separator': '.'}, 'flag': '🇫🇷', 'geohash': 'u09tvyu5x7hw4zcgx2tj', 'qibla': 119.19, 'roadinfo': {'drive_on': 'right', 'road': 'Rue Amelot', 'speed_in': 'km/h'}, 'sun': {'rise': {'apparent': 1707721560, 'astronomical': 1707715140, 'civil': 1707719580, 'nautical': 1707717360}, 'set': {'apparent': 1707757500, 'astronomical': 1707763860, 'civil': 1707759420, 'nautical': 1707761640}}, 'timezone': {'name': 'Europe/Paris', 'now_in_dst': 0, 'offset_sec': 3600, 'offset_string': '+0100', 'short_name': 'CET'}, 'what3words': {'words': 'layers.croak.siesta'}}, 'components': {'ISO_3166-1_alpha-2': 'FR', 'ISO_3166-1_alpha-3': 'FRA', 'ISO_3166-2': ['FR-IDF', 'FR-75C'], '_category': 'building', '_normalized_city': 'Paris 11e Arrondissement', '_type': 'building', 'city': 'Paris 11e Arrondissement', 'continent': 'Europe', 'country': 'France', 'country_code': 'fr', 'county': 'Paris', 'house_number': '82', 'political_union': 'European Union', 'postcode': '75011', 'road': 'Rue Amelot', 'state': 'Île-de-France', 'state_code': 'IDF'}, 'confidence': 10, 'distance_from_q': {'meters': 11}, 'formatted': '82 Rue Amelot, 75011 Paris, France', 'geometry': {'lat': 48.860939, 'lng': 2.367871}}], 'status': {'code': 200, 'message': 'OK'}, 'stay_informed': {'blog': 'https://blog.opencagedata.com', 'mastodon': 'https://en.osm.town/@opencage'}, 'thanks': 'For using an OpenCage API', 'timestamp': {'created_http': 'Mon, 12 Feb 2024 13:15:26 GMT', 'created_unix': 1707743726}, 'total_results': 1}\n",
      "Geohash: u09tvyu5x7hw4zcgx2tj\n"
     ]
    }
   ],
   "source": [
    "# Disable SSL certificate verification (cause of error)\n",
    "requests.packages.urllib3.disable_warnings()  # Ignore SSL certificate warnings\n",
    "\n",
    "# test data from first data\n",
    "lat = 48.861\n",
    "lon = 2.368\n",
    "\n",
    "# Construct the URL for the reverse geocoding request\n",
    "url = f\"https://api.opencagedata.com/geocode/v1/json?q={lat}%2C{lon}&key={api_key}\"\n",
    "\n",
    "# Perform the request\n",
    "response = requests.get(url, verify=False)\n",
    "\n",
    "# Check if the request was successful\n",
    "if response.status_code == 200:\n",
    "    \n",
    "    # Extract the result\n",
    "    result = response.json()\n",
    "    # Get geohash value\n",
    "    geohash_value = result['results'][0]['annotations']['geohash']\n",
    "    # Print the geohash value and all data from OpenCage\n",
    "    print(\"all:\", result)\n",
    "    print(\"Geohash:\", geohash_value)\n",
    "else:\n",
    "    print(\"Error:\", response.status_code)\n"
   ]
  },
  {
   "cell_type": "markdown",
   "metadata": {},
   "source": [
    "# Filter out records with null latitude or longitude"
   ]
  },
  {
   "cell_type": "code",
   "execution_count": 10,
   "metadata": {},
   "outputs": [],
   "source": [
    "# Filter out records with null latitude or longitude\n",
    "restaurant_df = restaurant_df.filter(restaurant_df[\"lat\"].isNotNull() & restaurant_df[\"lng\"].isNotNull())\n"
   ]
  },
  {
   "cell_type": "code",
   "execution_count": 11,
   "metadata": {},
   "outputs": [
    {
     "name": "stdout",
     "output_type": "stream",
     "text": [
      "+------------+------------+--------------------+-----------------------+-------+--------------+------+-------+\n",
      "|          id|franchise_id|      franchise_name|restaurant_franchise_id|country|          city|   lat|    lng|\n",
      "+------------+------------+--------------------+-----------------------+-------+--------------+------+-------+\n",
      "|197568495625|          10|    The Golden Spoon|                  24784|     US|       Decatur|34.578|-87.021|\n",
      "| 17179869242|          59|         Azalea Cafe|                  10902|     FR|         Paris|48.861|  2.368|\n",
      "|214748364826|          27|     The Corner Cafe|                  92040|     US|    Rapid City| 44.08|-103.25|\n",
      "|154618822706|          51|        The Pizzeria|                  41484|     AT|        Vienna|48.213| 16.413|\n",
      "|163208757312|          65|       Chef's Corner|                  96638|     GB|        London|51.495| -0.191|\n",
      "| 68719476763|          28|    The Spicy Pickle|                  77517|     US|      Grayling|44.657|-84.744|\n",
      "|223338299419|          28|    The Spicy Pickle|                  36937|     US|        Oswego|43.452|-76.532|\n",
      "|240518168650|          75|     Greenhouse Cafe|                  93164|     NL|     Amsterdam| 52.37|  4.897|\n",
      "|128849018936|          57|The Yellow Submarine|                   5679|     FR|         Paris|48.872|  2.335|\n",
      "|197568495635|          20|       The Brasserie|                  24784|     US|Jeffersonville|39.616|-83.612|\n",
      "| 68719476768|          33|   The Blue Elephant|                  77517|     IT|         Milan|45.479|  9.146|\n",
      "| 51539607582|          31|           Bistro 42|                   6934|     IT|         Milan|45.444|  9.153|\n",
      "| 94489280554|          43|      The Food House|                  95399|     FR|         Paris|48.867|  2.329|\n",
      "|206158430215|           8|     The Green Olive|                  53370|     US|   Haltom City|32.789| -97.28|\n",
      "|154618822657|           2|        Bella Cucina|                  41484|     US|   Fort Pierce|27.412|-80.391|\n",
      "| 17179869217|          34|     The Tasty Treat|                  10902|     US|     Green Bay|44.476|-88.077|\n",
      "|  8589934633|          42|     The Daily Scoop|                  12630|     FR|         Paris|48.854|  2.343|\n",
      "|240518168596|          21|      The Lazy Daisy|                  93164|     US|    Mendenhall| 39.86|-75.646|\n",
      "|171798691906|          67|  Crimson and Clover|                  65939|     NL|     Amsterdam|52.361|  4.894|\n",
      "| 42949673022|          63|          Cafe Paris|                  89646|     GB|        London|51.508| -0.107|\n",
      "+------------+------------+--------------------+-----------------------+-------+--------------+------+-------+\n",
      "only showing top 20 rows\n",
      "\n"
     ]
    }
   ],
   "source": [
    "restaurant_df.show()"
   ]
  },
  {
   "cell_type": "code",
   "execution_count": 12,
   "metadata": {},
   "outputs": [
    {
     "name": "stdout",
     "output_type": "stream",
     "text": [
      "root\n",
      " |-- id: long (nullable = true)\n",
      " |-- franchise_id: integer (nullable = true)\n",
      " |-- franchise_name: string (nullable = true)\n",
      " |-- restaurant_franchise_id: integer (nullable = true)\n",
      " |-- country: string (nullable = true)\n",
      " |-- city: string (nullable = true)\n",
      " |-- lat: double (nullable = true)\n",
      " |-- lng: double (nullable = true)\n",
      "\n"
     ]
    }
   ],
   "source": [
    "#DataFrame Schema\n",
    "restaurant_df.printSchema()"
   ]
  },
  {
   "cell_type": "markdown",
   "metadata": {},
   "source": [
    "# Check lat and lng for incorrect values using the OpenCage Geocoding API "
   ]
  },
  {
   "cell_type": "code",
   "execution_count": 25,
   "metadata": {},
   "outputs": [
    {
     "name": "stdout",
     "output_type": "stream",
     "text": [
      "+------------+------------+--------------------+-----------------------+-------+--------------+------+-------+-------+\n",
      "|          id|franchise_id|      franchise_name|restaurant_franchise_id|country|          city|   lat|    lng|geohash|\n",
      "+------------+------------+--------------------+-----------------------+-------+--------------+------+-------+-------+\n",
      "|197568495625|          10|    The Golden Spoon|                  24784|     US|       Decatur|34.578|-87.021|   dnx5|\n",
      "| 17179869242|          59|         Azalea Cafe|                  10902|     FR|         Paris|48.861|  2.368|   dnx5|\n",
      "|214748364826|          27|     The Corner Cafe|                  92040|     US|    Rapid City| 44.08|-103.25|   dnx5|\n",
      "|154618822706|          51|        The Pizzeria|                  41484|     AT|        Vienna|48.213| 16.413|   dnx5|\n",
      "|163208757312|          65|       Chef's Corner|                  96638|     GB|        London|51.495| -0.191|   dnx5|\n",
      "| 68719476763|          28|    The Spicy Pickle|                  77517|     US|      Grayling|44.657|-84.744|   dnx5|\n",
      "|223338299419|          28|    The Spicy Pickle|                  36937|     US|        Oswego|43.452|-76.532|   dnx5|\n",
      "|240518168650|          75|     Greenhouse Cafe|                  93164|     NL|     Amsterdam| 52.37|  4.897|   dnx5|\n",
      "|128849018936|          57|The Yellow Submarine|                   5679|     FR|         Paris|48.872|  2.335|   dnx5|\n",
      "|197568495635|          20|       The Brasserie|                  24784|     US|Jeffersonville|39.616|-83.612|   dnx5|\n",
      "| 68719476768|          33|   The Blue Elephant|                  77517|     IT|         Milan|45.479|  9.146|   dnx5|\n",
      "| 51539607582|          31|           Bistro 42|                   6934|     IT|         Milan|45.444|  9.153|   dnx5|\n",
      "| 94489280554|          43|      The Food House|                  95399|     FR|         Paris|48.867|  2.329|   dnx5|\n",
      "|206158430215|           8|     The Green Olive|                  53370|     US|   Haltom City|32.789| -97.28|   dnx5|\n",
      "|154618822657|           2|        Bella Cucina|                  41484|     US|   Fort Pierce|27.412|-80.391|   dnx5|\n",
      "| 17179869217|          34|     The Tasty Treat|                  10902|     US|     Green Bay|44.476|-88.077|   dnx5|\n",
      "|  8589934633|          42|     The Daily Scoop|                  12630|     FR|         Paris|48.854|  2.343|   dnx5|\n",
      "|240518168596|          21|      The Lazy Daisy|                  93164|     US|    Mendenhall| 39.86|-75.646|   dnx5|\n",
      "|171798691906|          67|  Crimson and Clover|                  65939|     NL|     Amsterdam|52.361|  4.894|   dnx5|\n",
      "| 42949673022|          63|          Cafe Paris|                  89646|     GB|        London|51.508| -0.107|   dnx5|\n",
      "+------------+------------+--------------------+-----------------------+-------+--------------+------+-------+-------+\n",
      "only showing top 20 rows\n",
      "\n"
     ]
    }
   ],
   "source": [
    "from pyspark.sql.functions import lit, udf\n",
    "from pyspark.sql.types import StringType\n",
    "import geohash2\n",
    "\n",
    "# create udf\n",
    "def generate_geohash(latitude, longitude):\n",
    "    return geohash2.encode(latitude, longitude, precision=4)\n",
    "\n",
    "# register\n",
    "generate_geohash_udf = udf(generate_geohash, StringType())\n",
    "\n",
    "# apply\n",
    "for row in restaurant_df.collect():\n",
    "    lat = row['lat']\n",
    "    lon = row['lng']\n",
    "    geohash = generate_geohash(lat, lon)\n",
    "    df_with_geohash = restaurant_df.withColumn(\"geohash\", lit(geohash))\n",
    "\n",
    "# show new df\n",
    "df_with_geohash.show()\n"
   ]
  },
  {
   "cell_type": "code",
   "execution_count": null,
   "metadata": {},
   "outputs": [],
   "source": []
  },
  {
   "cell_type": "markdown",
   "metadata": {},
   "source": [
    " # Im really trying hard but that error doesn't handle\n",
    " "
   ]
  }
 ],
 "metadata": {
  "kernelspec": {
   "display_name": "Python 3 (ipykernel)",
   "language": "python",
   "name": "python3"
  },
  "language_info": {
   "codemirror_mode": {
    "name": "ipython",
    "version": 3
   },
   "file_extension": ".py",
   "mimetype": "text/x-python",
   "name": "python",
   "nbconvert_exporter": "python",
   "pygments_lexer": "ipython3",
   "version": "3.9.13"
  }
 },
 "nbformat": 4,
 "nbformat_minor": 2
}
